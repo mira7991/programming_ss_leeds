{
 "cells": [
  {
   "cell_type": "markdown",
   "metadata": {},
   "source": [
    "# Practical 3\n",
    "\n",
    "This piece of code shrinks the practical 2 code by introducing control flow statement 'for'. We use it\n",
    "to create as many agents as we want (num_of_agents), and move them as many times as we like(num_of_iterations). \n",
    "Also, in this practical, we show two solutions to address edge issues - the case when the agents move too far away.\n",
    "First solution is solid wall setting - when the agent moves too far it's coord-s are reset to min boundary/max boundary.\n",
    "Second solution is torus - if agents moves away at the top/right,  it enters from bottom/left and the opposite/\n",
    "\n",
    "@author: Mira\n",
    "version: 1.0"
   ]
  },
  {
   "cell_type": "code",
   "execution_count": 2,
   "metadata": {},
   "outputs": [
    {
     "name": "stdout",
     "output_type": "stream",
     "text": [
      "Agents coords:  [[17, 72], [97, 8], [32, 15], [63, 97], [57, 60], [83, 48], [100, 26], [12, 62], [3, 49], [55, 77]]\n",
      "Agents' coord-s at iteration  0 : [[17, 73], [95, 9], [32, 16], [63, 96], [59, 61], [85, 49], [2, 27], [14, 63], [1, 48], [55, 76]]\n",
      "Agents' coord-s at iteration  1 : [[17, 74], [95, 8], [32, 15], [61, 95], [59, 60], [87, 48], [2, 26], [14, 64], [99, 47], [57, 77]]\n",
      "Agents' coord-s at iteration  2 : [[17, 73], [95, 9], [30, 14], [61, 94], [57, 59], [87, 49], [0, 27], [12, 63], [97, 46], [57, 78]]\n",
      "Agents' coord-s at iteration  3 : [[15, 74], [97, 10], [28, 13], [63, 95], [57, 58], [85, 48], [0, 26], [14, 64], [97, 47], [57, 79]]\n",
      "Agents' coord-s at iteration  4 : [[17, 73], [99, 9], [30, 14], [65, 96], [57, 57], [85, 47], [2, 27], [12, 65], [97, 46], [55, 78]]\n",
      "Agents' coord-s at iteration  5 : [[19, 72], [97, 10], [30, 15], [63, 97], [57, 56], [87, 48], [0, 28], [12, 64], [95, 45], [55, 79]]\n",
      "Agents' coord-s at iteration  6 : [[21, 71], [97, 11], [32, 16], [63, 96], [57, 57], [87, 49], [98, 27], [12, 63], [97, 44], [55, 80]]\n",
      "Agents' coord-s at iteration  7 : [[19, 72], [97, 10], [32, 17], [61, 95], [59, 56], [87, 50], [98, 26], [12, 62], [97, 45], [55, 79]]\n",
      "Agents' coord-s at iteration  8 : [[19, 73], [97, 9], [32, 18], [61, 96], [59, 57], [87, 51], [0, 25], [12, 61], [99, 46], [55, 80]]\n",
      "Agents' coord-s at iteration  9 : [[17, 74], [99, 10], [30, 17], [61, 97], [57, 56], [85, 52], [2, 26], [14, 60], [97, 45], [57, 81]]\n",
      "furthest east agent coord-s:  [61, 97]\n"
     ]
    },
    {
     "data": {
      "image/png": "[encoded data removed]",
      "text/plain": [
       "<Figure size 640x480 with 1 Axes>"
      ]
     },
     "metadata": {},
     "output_type": "display_data"
    }
   ],
   "source": [
    "# -*- coding: utf-8 -*-\n",
    "\"\"\"\n",
    "\n",
    "This piece of code shrinks the practical 2 code by introducing control flow statement 'for'. We use it\n",
    "to create as many agents as we want (num_of_agents), and move them as many times as we like(num_of_iterations). \n",
    "Also, in this practical, we show two solutions to address edge issues - the case when the agents move too far away.\n",
    "First solution is solid wall setting - when the agent moves too far it's coord-s are reset to min boundary/max boundary.\n",
    "Second solution is torus - if agents moves away at the top/right,  it enters from bottom/left and the opposite/\n",
    "\n",
    "@author: Mira\n",
    "version: 1.0\n",
    "\"\"\"\n",
    "\n",
    "import random\n",
    "import operator\n",
    "import matplotlib.pyplot\n",
    "\n",
    "random.seed(1)\n",
    "\n",
    "# Create empty list of agents\n",
    "agents=[]\n",
    "\n",
    "#Set number of agents\n",
    "num_of_agents = 10\n",
    "\n",
    "#Create 100 agents with their random coord-s\n",
    "for i in range(num_of_agents):\n",
    "    agents.append([random.randint(0,100),random.randint(0,100)])\n",
    "print(\"Agents coords: \", agents)\n",
    "\n",
    "#Move the agents around for number of iterations based on random value\n",
    "num_of_iterations=10\n",
    "\n",
    "for j in range(num_of_iterations):\n",
    "    for i in range(num_of_agents):\n",
    "        \n",
    "        if random.random() < 0.5:\n",
    "             agents[i][0] += 1\n",
    "        else:\n",
    "             agents[i][0] -= 1\n",
    "        if random.random() < 0.5:\n",
    "             agents[i][1] += 1\n",
    "        else:\n",
    "             agents[i][1] -= 1\n",
    "     \n",
    "     #The below are two techniques to address edge issues \n",
    "     #edge issue is when the range is too large\n",
    "        #1. Solid wall setting\n",
    "        # if agents[i][0] < 0:\n",
    "        #     agents[i][0] = 0\n",
    "        # if agents[i][1] < 0:\n",
    "        #     agents[i][0] = 0\n",
    "        # if agents[i][0] > 99:\n",
    "        #     agents[i][0] = 99\n",
    "        # if agents[i][1] > 99:\n",
    "        #     agents[i][1] = 99\n",
    "        #print(agents[i])\n",
    "        \n",
    "        #2. Torus \n",
    "        if random.random() < 0.5:\n",
    "            agents[i][0] = (agents[i][0] + 1) % 100\n",
    "        else:\n",
    "            agents[i][0] = (agents[i][0] - 1) % 100\n",
    "    print(\"Agents' coord-s at iteration \", j, \":\", agents)\n",
    "\n",
    "\"\"\"\n",
    "Calculate the Pythagorean distance between the agents \n",
    "dist = (((agents[0][0]- agents[1][0])**2) + ((agents[0][1] - agents[1][1])**2))**0.5\n",
    "print(\"Distance between agents: \", round(dist,2))\n",
    "\"\"\"\n",
    "\n",
    "#Find the  furthest east agent (larger x)\n",
    "maxx = max(agents, key=operator.itemgetter(1))\n",
    "print(\"furthest east agent coord-s: \" ,maxx)\n",
    "\n",
    "#Plot the agent locations\n",
    "matplotlib.pyplot.ylim(0, 99)\n",
    "matplotlib.pyplot.xlim(0, 99)\n",
    "matplotlib.pyplot.ylabel('Y')\n",
    "matplotlib.pyplot.xlabel('X')\n",
    "matplotlib.pyplot.title('AGENT BASED MODEL')\n",
    "for i in range(num_of_agents):\n",
    "       matplotlib.pyplot.scatter(agents[i][1],agents[i][0])\n",
    "matplotlib.pyplot.scatter(maxx[1], maxx[0], color='green')   #plot the furthest east agent in green\n",
    "matplotlib.pyplot.show()"
   ]
  }
 ],
 "metadata": {
  "interpreter": {
   "hash": "b89b5cfaba6639976dc87ff2fec6d58faec662063367e2c229c520fe71072417"
  },
  "kernelspec": {
   "display_name": "Python 3.10.4 64-bit",
   "language": "python",
   "name": "python3"
  },
  "language_info": {
   "codemirror_mode": {
    "name": "ipython",
    "version": 3
   },
   "file_extension": ".py",
   "mimetype": "text/x-python",
   "name": "python",
   "nbconvert_exporter": "python",
   "pygments_lexer": "ipython3",
   "version": "3.10.4"
  },
  "orig_nbformat": 4
 },
 "nbformat": 4,
 "nbformat_minor": 2
}
