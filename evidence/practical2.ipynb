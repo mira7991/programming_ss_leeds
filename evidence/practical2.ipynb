{
 "cells": [
  {
   "cell_type": "markdown",
   "metadata": {},
   "source": [
    "# Practical 2\n",
    "\n",
    "This piece of code shrinks the code from practical 1 by introducing containers, namely lists.\n",
    "So the agents' coordinates pairs are now stored in the individual list which form nested list \n",
    "of all agents - [[y0,x0], [y1,x1]]\n",
    "\n",
    "@author: Mira\n",
    "version: 1.0"
   ]
  },
  {
   "cell_type": "code",
   "execution_count": 5,
   "metadata": {},
   "outputs": [
    {
     "name": "stdout",
     "output_type": "stream",
     "text": [
      "Agents coord-s: [[16, 71], [97, 8]]\n",
      "Distance between agents:  102.8\n",
      "the  furthest east agent: [16, 71]\n"
     ]
    },
    {
     "data": {
      "image/png": "[encoded data removed]",
      "text/plain": [
       "<Figure size 640x480 with 1 Axes>"
      ]
     },
     "metadata": {},
     "output_type": "display_data"
    }
   ],
   "source": [
    "\n",
    "import random\n",
    "import operator\n",
    "import matplotlib.pyplot\n",
    "\n",
    "random.seed(1)\n",
    "\n",
    "# Create empty list of agents\n",
    "agents=[]\n",
    "\n",
    "#Append coordinates of agent 1 to the list\n",
    "agents.append([random.randint(0,99),random.randint(0,99)])\n",
    "\n",
    "#Move the agent 1 around based on random value\n",
    "random_num=random.random()\n",
    "\n",
    "# y coordinates\n",
    "if random_num < 0.5:\n",
    "     agents[0][0] += 1\n",
    "else:\n",
    "     agents[0][0] -= 1   \n",
    "# x coordinates\n",
    "if random_num < 0.5:\n",
    "     agents[0][1] += 1\n",
    "else:\n",
    "     agents[0][1] -= 1\n",
    "\n",
    "\n",
    "# Add agent 2 coordinates\n",
    "agents.append([random.randint(0,99),random.randint(0,99)])\n",
    "print('Agents coord-s:', agents)\n",
    "\n",
    "\n",
    "#Move the agent 2 around based on random value\n",
    "random_num=random.random()\n",
    "\n",
    "if random_num < 0.5:\n",
    "     agents[1][0] += 1\n",
    "else:\n",
    "     agents[1][0] -= 1\n",
    "     \n",
    "\n",
    "if random_num < 0.5:\n",
    "     agents[1][1] += 1\n",
    "else:\n",
    "     agents[1][1] -= 1\n",
    "\n",
    "# Calculate the Pythagorean distance between the agents \n",
    "dist = (((agents[0][0]- agents[1][0])**2) + ((agents[0][1] - agents[1][1])**2))**0.5\n",
    "print(\"Distance between agents: \", round(dist,2))\n",
    "\n",
    "#Find the  furthest east agent (larger x)\n",
    "maxx=max(agents, key=operator.itemgetter(1))\n",
    "print('the  furthest east agent:', maxx)\n",
    "\n",
    "#Plot the agent locations\n",
    "matplotlib.pyplot.ylim(0, 99)\n",
    "matplotlib.pyplot.xlim(0, 99)\n",
    "matplotlib.pyplot.scatter(agents[0][1],agents[0][0])\n",
    "matplotlib.pyplot.scatter(agents[1][1],agents[1][0])\n",
    "matplotlib.pyplot.scatter(maxx[1], maxx[0], color='green') #plot the furthest east agent in green\n",
    "matplotlib.pyplot.show()"
   ]
  }
 ],
 "metadata": {
  "interpreter": {
   "hash": "b89b5cfaba6639976dc87ff2fec6d58faec662063367e2c229c520fe71072417"
  },
  "kernelspec": {
   "display_name": "Python 3.10.4 64-bit",
   "language": "python",
   "name": "python3"
  },
  "language_info": {
   "codemirror_mode": {
    "name": "ipython",
    "version": 3
   },
   "file_extension": ".py",
   "mimetype": "text/x-python",
   "name": "python",
   "nbconvert_exporter": "python",
   "pygments_lexer": "ipython3",
   "version": "3.10.4"
  },
  "orig_nbformat": 4
 },
 "nbformat": 4,
 "nbformat_minor": 2
}
