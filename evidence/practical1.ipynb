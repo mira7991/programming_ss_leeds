{
 "cells": [
  {
   "cell_type": "markdown",
   "metadata": {},
   "source": [
    "# Practical 1\n",
    "This code introduces the basic steps to build agent-based model(ABM). The two agents are created and their\n",
    "y and x coordinates are set. They both begin at the same spot and move forward using random numbers. \n",
    "The final step is to compute the distance  between the agents.\n",
    "\n",
    "@author: Mira\n",
    "version: 1.0"
   ]
  },
  {
   "cell_type": "code",
   "execution_count": 1,
   "metadata": {},
   "outputs": [
    {
     "name": "stdout",
     "output_type": "stream",
     "text": [
      "Agent #1 coord-s after first step: x0 - 49 , y0 - 49\n",
      "Agent #1 coord-s after second step: x0 - 48 , y0 - 48\n",
      "Agent #2 coord-s after first step: x1 - 49 , y1 - 49\n",
      "Agent #2 coord-s after second step: x1 - 48 , y1 - 48\n",
      "Distance between agents:  0.0\n"
     ]
    }
   ],
   "source": [
    "# import libraries\n",
    "import random\n",
    "\n",
    "\n",
    "## AGENT 1\n",
    "# Set Agent 1 coordinates\n",
    "y0=50\n",
    "x0=50\n",
    "\n",
    "#Set random value for moving agent 1 around\n",
    "random_num=random.random()\n",
    "#print(random_num)\n",
    "\n",
    "#Move the agent 1 around, step #1\n",
    "if random_num < 0.5:\n",
    "     y0 += 1\n",
    "else:\n",
    "     y0 = y0 - 1\n",
    "\n",
    "if random_num < 0.5:\n",
    "     x0 += 1\n",
    "else:\n",
    "     x0 = x0 - 1\n",
    "print(\"Agent #1 coord-s after first step:\", \"x0 -\", x0,\", y0 -\",y0)\n",
    "\n",
    "#Move the agent 1 around, step #2\n",
    "if random_num < 0.5:\n",
    "     y0 += 1\n",
    "else:\n",
    "     y0 = y0 - 1\n",
    "if random_num < 0.5:\n",
    "     x0 += 1\n",
    "else:\n",
    "     x0 = x0 - 1\n",
    "print(\"Agent #1 coord-s after second step:\",  \"x0 -\", x0,\", y0 -\",y0)\n",
    "\n",
    "\n",
    "## AGENT 2\n",
    "# Set Agent 2 coordinates\n",
    "y1=50\n",
    "x1=50\n",
    "\n",
    "#Set random value for moving agent 2 around\n",
    "random_num=random.random()\n",
    "\n",
    "#Move the agent 2 around, step #1\n",
    "if random_num < 0.5:\n",
    "     y1 += 1\n",
    "else:\n",
    "     y1 = y1 - 1\n",
    "if random_num < 0.5:\n",
    "     x1 += 1\n",
    "else:\n",
    "     x1 = x1 - 1\n",
    "print(\"Agent #2 coord-s after first step:\",  \"x1 -\", x1,\", y1 -\",y1)\n",
    "\n",
    "#Move the agent 2 around,  step #2\n",
    "if random_num < 0.5:\n",
    "     y1 += 1\n",
    "else:\n",
    "     y1 = y1 - 1\n",
    "if random_num < 0.5:\n",
    "     x1 += 1\n",
    "else:\n",
    "     x1 = x1 - 1\n",
    "print(\"Agent #2 coord-s after second step:\",  \"x1 -\", x1,\", y1 -\",y1)\n",
    "\n",
    "\n",
    "# Calculate the Pythagorean distance between the agents \n",
    "dist = (((y0 - y1)**2) + ((x0 - x1)**2))**0.5\n",
    "print(\"Distance between agents: \", round(dist,2))"
   ]
  }
 ],
 "metadata": {
  "interpreter": {
   "hash": "b89b5cfaba6639976dc87ff2fec6d58faec662063367e2c229c520fe71072417"
  },
  "kernelspec": {
   "display_name": "Python 3.10.4 64-bit",
   "language": "python",
   "name": "python3"
  },
  "language_info": {
   "codemirror_mode": {
    "name": "ipython",
    "version": 3
   },
   "file_extension": ".py",
   "mimetype": "text/x-python",
   "name": "python",
   "nbconvert_exporter": "python",
   "pygments_lexer": "ipython3",
   "version": "3.10.4"
  },
  "orig_nbformat": 4
 },
 "nbformat": 4,
 "nbformat_minor": 2
}
