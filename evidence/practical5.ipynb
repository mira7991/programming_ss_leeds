{
 "cells": [
  {
   "cell_type": "markdown",
   "metadata": {},
   "source": [
    "In this code, \n",
    "1) We create and move agents around as in the previous practicals. \n",
    "2) However we make the objects, our agents, by using our template - Agent class - that is stored in the agentframework \n",
    "module and move the agents around using the class method '.move()'. The class has variables - randomly \n",
    "initialized x and y coordinates. Using classes helps to produce clean and easy to maintain code and is\n",
    "useful to build complicated system.\n",
    "\n",
    "@author: Mira\n",
    "version: 1.0"
   ]
  },
  {
   "cell_type": "code",
   "execution_count": 2,
   "metadata": {},
   "outputs": [
    {
     "name": "stdout",
     "output_type": "stream",
     "text": [
      "Agents' initial coords: agent agent_id = 0, store = 0, x=97, y=49\n",
      "Agents' initial coords: agent agent_id = 1, store = 0, x=5, y=53\n",
      "Agents' initial coords: agent agent_id = 2, store = 0, x=65, y=33\n",
      "Agents' initial coords: agent agent_id = 3, store = 0, x=51, y=62\n",
      "Agents' initial coords: agent agent_id = 4, store = 0, x=38, y=100\n",
      "Agents' initial coords: agent agent_id = 5, store = 0, x=45, y=61\n",
      "Agents' initial coords: agent agent_id = 6, store = 0, x=27, y=74\n",
      "Agents' initial coords: agent agent_id = 7, store = 0, x=17, y=64\n",
      "Agents' initial coords: agent agent_id = 8, store = 0, x=17, y=36\n",
      "Agents' initial coords: agent agent_id = 9, store = 0, x=12, y=96\n",
      "Agents' coords after moving around: agent 0 agent_id = 0, store = 0, x=97, y=29\n",
      "Agents' coords after moving around: agent 1 agent_id = 1, store = 0, x=35, y=93\n",
      "Agents' coords after moving around: agent 2 agent_id = 2, store = 0, x=65, y=33\n",
      "Agents' coords after moving around: agent 3 agent_id = 3, store = 0, x=1, y=72\n",
      "Agents' coords after moving around: agent 4 agent_id = 4, store = 0, x=88, y=10\n",
      "Agents' coords after moving around: agent 5 agent_id = 5, store = 0, x=75, y=91\n",
      "Agents' coords after moving around: agent 6 agent_id = 6, store = 0, x=17, y=34\n",
      "Agents' coords after moving around: agent 7 agent_id = 7, store = 0, x=37, y=64\n",
      "Agents' coords after moving around: agent 8 agent_id = 8, store = 0, x=37, y=56\n",
      "Agents' coords after moving around: agent 9 agent_id = 9, store = 0, x=42, y=6\n"
     ]
    },
    {
     "data": {
      "image/png": "[encoded data removed]",
      "text/plain": [
       "<Figure size 640x480 with 1 Axes>"
      ]
     },
     "metadata": {},
     "output_type": "display_data"
    },
    {
     "name": "stdout",
     "output_type": "stream",
     "text": [
      "time = 0.40625\n"
     ]
    }
   ],
   "source": [
    "#import libraries\n",
    "import matplotlib.pyplot\n",
    "import time\n",
    "import agentframework  # module that stores Agent class\n",
    "\n",
    "##custom function(s)\n",
    "def distance_between(agents_row_a, agents_row_b):\n",
    "    \"\"\"\n",
    "    This function calculates the distance between two agents\n",
    "\n",
    "    Parameters\n",
    "    ----------\n",
    "    agents_row_a : list\n",
    "        The coord-s of agent #1.\n",
    "    agents_row_b : list\n",
    "        The coord-s of agent #2.\n",
    "\n",
    "    Returns\n",
    "    distance between two agents\n",
    "    TYPE float \n",
    "\n",
    "    \"\"\"\n",
    "    return (((agents_row_a.x - agents_row_b.x)**2) +\n",
    "    ((agents_row_a.y - agents_row_b.y)**2))**0.5\n",
    "\n",
    "\n",
    "#check how long it takes to run code\n",
    "start = time.process_time()\n",
    "\n",
    "# Create list of agents\n",
    "agents=[]\n",
    "\n",
    "#Set number of agents, iterations,neighbourhood\n",
    "num_of_agents = 10\n",
    "num_of_iterations=100\n",
    "neighbourhood=20\n",
    "\n",
    "#Create 100 agents with their random coord-s using Agent class\n",
    "for i in range(num_of_agents):\n",
    "    agents.append(agentframework.Agent(i, agents))   \n",
    "    print(\"Agents' initial coords: agent\", agents[i]) #check the starting locations of the agents\n",
    "\n",
    "#Move the agents around for number of iterations\n",
    "for j in range(num_of_iterations):\n",
    "    for i in range(num_of_agents):\n",
    "        agents[i].move()\n",
    "\n",
    "for i in range(num_of_agents):\n",
    "    print(\"Agents' coords after moving around: agent\", i, agents[i]) #check the new locations of the agents\n",
    "\n",
    "\n",
    "#Calculate distance between agents\n",
    "for agents_row_a in agents:\n",
    "    for agents_row_b in agents:\n",
    "        distance = distance_between(agents_row_a, agents_row_b)\n",
    "\n",
    "#Plot the agent locations\n",
    "matplotlib.pyplot.ylim(0, 99)\n",
    "matplotlib.pyplot.xlim(0, 99)\n",
    "matplotlib.pyplot.ylabel('Y')\n",
    "matplotlib.pyplot.xlabel('X')\n",
    "matplotlib.pyplot.title('AGENT BASED MODEL')\n",
    "for i in range(num_of_agents):\n",
    "        matplotlib.pyplot.scatter(agents[i].x, agents[i].y)\n",
    "matplotlib.pyplot.show()\n",
    "\n",
    "#Check time\n",
    "end = time.process_time()\n",
    "print(\"time = \" + str(end - start))\n",
    "\n"
   ]
  }
 ],
 "metadata": {
  "interpreter": {
   "hash": "b89b5cfaba6639976dc87ff2fec6d58faec662063367e2c229c520fe71072417"
  },
  "kernelspec": {
   "display_name": "Python 3.10.4 64-bit",
   "language": "python",
   "name": "python3"
  },
  "language_info": {
   "codemirror_mode": {
    "name": "ipython",
    "version": 3
   },
   "file_extension": ".py",
   "mimetype": "text/x-python",
   "name": "python",
   "nbconvert_exporter": "python",
   "pygments_lexer": "ipython3",
   "version": "3.10.4"
  },
  "orig_nbformat": 4
 },
 "nbformat": 4,
 "nbformat_minor": 2
}
